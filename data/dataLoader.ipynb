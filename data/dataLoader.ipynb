{
 "cells": [
  {
   "cell_type": "code",
   "execution_count": 77,
   "metadata": {},
   "outputs": [],
   "source": [
    "import numpy as np\n",
    "import matplotlib.pyplot as plt\n",
    "import struct\n",
    "import torch\n",
    "import torch.nn as nn\n",
    "import torch.nn.functional as F\n",
    "import torch.utils.data as D"
   ]
  },
  {
   "cell_type": "code",
   "execution_count": 79,
   "metadata": {},
   "outputs": [],
   "source": [
    "def loadFileList(file):\n",
    "    files = open(file,'r')\n",
    "    f = files.readlines()\n",
    "    files.close()\n",
    "    return f"
   ]
  },
  {
   "cell_type": "code",
   "execution_count": 80,
   "metadata": {},
   "outputs": [],
   "source": [
    "def loadData(file):\n",
    "    try:\n",
    "        File = open(file, 'rb')\n",
    "    except IOError:\n",
    "        print(\"open error\")\n",
    "        File.close()\n",
    "        return\n",
    "    \n",
    "    # 读取文件头\n",
    "    label = {\n",
    "        'RECORD_BYTES':0,\n",
    "        'FILE_RECORDS':0,\n",
    "        'LABEL_RECORDS':0,\n",
    "        '^IMAGE':0,\n",
    "        '^IMAGE_PREFIX':0,\n",
    "        '  ROWS':0,\n",
    "        '  ROW_BYTES':0,\n",
    "        '  LINES':0,\n",
    "        }\n",
    "    while True:\n",
    "        line = File.readline()\n",
    "        lbl = line.decode('utf8').replace('\\t', '').strip('\\n').split(\"=\")\n",
    "        if lbl[0] == 'END':# 文件头读完了\n",
    "            break\n",
    "        if lbl[0] in label:\n",
    "            label[lbl[0]] = int(lbl[1])\n",
    "\n",
    "    # 跳过空行\n",
    "    skip = File.readline()\n",
    "    \n",
    "    # 线阵数量\n",
    "    lines = label['  LINES']\n",
    "\n",
    "    # 每个像素由32*32个像素取平均构成，坐标取第一个像素的起始点的纬度经度跨越的四分点\n",
    "    height_pixels = 32\n",
    "    width_pixels = 32\n",
    "    \n",
    "    height = int(lines/height_pixels)\n",
    "    width = int(128/width_pixels)\n",
    "\n",
    "    total = height*width\n",
    "\n",
    "    skip_lines = lines%height_pixels\n",
    "\n",
    "    # 读取经纬度列表，位置直接对应对应点的索引位置\n",
    "    inf = File.readline(67*lines)\n",
    "    inf = inf.decode('utf8').replace(' ', '').split(\"\\t\")# 整行经纬度表都在这里\n",
    "\n",
    "    pos_lon = np.empty((total))# 经度\n",
    "    pos_lat = np.empty((total))# 维度\n",
    "\n",
    "    # 每个线阵的数据格式：2008-12-04T05:04:01.420Z\t0\t 121.2097\t -77.4942\t 124.8695\t -77.4382\t\n",
    "    for i in range(height):\n",
    "        for j in range(width):\n",
    "            pos_lon[i*width + j] = float(inf[6*height_pixels*i + 2]) + j*(float(inf[6*height_pixels*i + 4]) - float(inf[6*height_pixels*i + 2]))/width\n",
    "            pos_lat[i*width + j] = float(inf[6*height_pixels*i + 3])\n",
    "\n",
    "    # 经纬度表后面有部分补全符号，剔除\n",
    "    skip = File.readline(label['  ROWS']*label['  ROW_BYTES']-67*lines)\n",
    "\n",
    "    # 读图像\n",
    "    f = File.read()\n",
    "\n",
    "    iim_np = np.empty((total,21))# iim图像记录，total，21个波段连续记录\n",
    "    # print(iim_np)# test\n",
    "\n",
    "    # 使用的波段记录\n",
    "    useBand = [i for i in range(11,32)]\n",
    "    usepBand = tuple(useBand)\n",
    "\n",
    "    fmt = '>' + str(width_pixels) + 'f'\n",
    "    offset = 0\n",
    "    skipset = 4*128*lines# 对于不用的波段，全波段跳过一共n条线阵*128*4bytes的大小\n",
    "    # print(skipset) # test\n",
    "\n",
    "    for band in range(32):# test\n",
    "        if band not in useBand:\n",
    "            offset += skipset# 跳过整个波段\n",
    "            continue\n",
    "        # for line in range(label['  LINES']):\n",
    "        pixel = 0\n",
    "        while pixel < total:# 开始处理4个像素\n",
    "            temp = np.zeros(width)\n",
    "\n",
    "            # print(temp) # test\n",
    "\n",
    "            for line in range(height_pixels):\n",
    "                for unit in range(width):\n",
    "                    temp[unit] += np.mean(struct.unpack_from(fmt, f, offset))\n",
    "                    offset += struct.calcsize(fmt)\n",
    "            for unit in range(width):\n",
    "                iim_np[pixel][band - 11] = temp[unit]/4.0\n",
    "                pixel += 1\n",
    "        offset += 4*128*skip_lines# 尾部用不到的线阵\n",
    "    print(\"a part finished\")# test\n",
    "    File.close()\n",
    "    # print(np.shape(iim_np))\n",
    "    return total, pos_lon, pos_lat, iim_np"
   ]
  },
  {
   "cell_type": "code",
   "execution_count": 81,
   "metadata": {},
   "outputs": [],
   "source": [
    "file = 'fires101.txt'"
   ]
  },
  {
   "cell_type": "code",
   "execution_count": 82,
   "metadata": {},
   "outputs": [],
   "source": [
    "fileList = loadFileList(file)"
   ]
  },
  {
   "cell_type": "code",
   "execution_count": 83,
   "metadata": {},
   "outputs": [],
   "source": [
    "total_pixel = 0\n",
    "position_lon = np.array([])\n",
    "position_lat = np.array([])\n",
    "iim_np = np.array([])"
   ]
  },
  {
   "cell_type": "code",
   "execution_count": 84,
   "metadata": {},
   "outputs": [],
   "source": [
    "fig = np.zeros((1800,900))"
   ]
  },
  {
   "cell_type": "code",
   "execution_count": 85,
   "metadata": {},
   "outputs": [],
   "source": [
    "class Network(nn.Module):\n",
    "    def __init__(self, n_feature, n_hidden, n_output):\n",
    "        super(Network, self).__init__()\n",
    "        self.fc = torch.nn.Linear(n_feature, n_hidden)\n",
    "        self.out = torch.nn.Linear(n_hidden, n_output)\n",
    "\n",
    "    def forward(self, x):\n",
    "        x = F.relu(self.fc(x))\n",
    "        x = self.out(x)\n",
    "        return x"
   ]
  },
  {
   "cell_type": "code",
   "execution_count": 86,
   "metadata": {},
   "outputs": [],
   "source": [
    "filestr='../network/model'\n",
    "network = torch.load(filestr)"
   ]
  },
  {
   "cell_type": "code",
   "execution_count": 87,
   "metadata": {},
   "outputs": [
    {
     "output_type": "stream",
     "name": "stdout",
     "text": "a part finished\na part finished\na part finished\na part finished\na part finished\na part finished\na part finished\na part finished\na part finished\na part finished\na part finished\na part finished\na part finished\na part finished\na part finished\na part finished\na part finished\na part finished\na part finished\na part finished\na part finished\na part finished\na part finished\na part finished\na part finished\na part finished\na part finished\na part finished\na part finished\na part finished\na part finished\na part finished\na part finished\na part finished\na part finished\n"
    },
    {
     "output_type": "error",
     "ename": "ValueError",
     "evalue": "could not convert string to float: '10000.000010000.000010000.000010000.00002008-11-15T23:11:01.840Z'",
     "traceback": [
      "\u001b[0;31m---------------------------------------------------------------------------\u001b[0m",
      "\u001b[0;31mValueError\u001b[0m                                Traceback (most recent call last)",
      "\u001b[0;32m<ipython-input-87-ebd82e958738>\u001b[0m in \u001b[0;36m<module>\u001b[0;34m\u001b[0m\n\u001b[1;32m      1\u001b[0m \u001b[0;32mfor\u001b[0m \u001b[0mfile\u001b[0m \u001b[0;32min\u001b[0m \u001b[0mfileList\u001b[0m\u001b[0;34m:\u001b[0m\u001b[0;34m\u001b[0m\u001b[0;34m\u001b[0m\u001b[0m\n\u001b[1;32m      2\u001b[0m     \u001b[0mfile\u001b[0m \u001b[0;34m=\u001b[0m \u001b[0mfile\u001b[0m\u001b[0;34m.\u001b[0m\u001b[0mreplace\u001b[0m\u001b[0;34m(\u001b[0m\u001b[0;34m'\\n'\u001b[0m\u001b[0;34m,\u001b[0m\u001b[0;34m''\u001b[0m\u001b[0;34m)\u001b[0m\u001b[0;34m.\u001b[0m\u001b[0mreplace\u001b[0m\u001b[0;34m(\u001b[0m\u001b[0;34m'\\r'\u001b[0m\u001b[0;34m,\u001b[0m\u001b[0;34m''\u001b[0m\u001b[0;34m)\u001b[0m\u001b[0;31m# 除去换行符\u001b[0m\u001b[0;34m\u001b[0m\u001b[0;34m\u001b[0m\u001b[0m\n\u001b[0;32m----> 3\u001b[0;31m     \u001b[0mtotal_pixel\u001b[0m\u001b[0;34m,\u001b[0m \u001b[0mposition_lon\u001b[0m\u001b[0;34m,\u001b[0m \u001b[0mposition_lat\u001b[0m\u001b[0;34m,\u001b[0m \u001b[0miim_np\u001b[0m \u001b[0;34m=\u001b[0m \u001b[0mloadData\u001b[0m\u001b[0;34m(\u001b[0m\u001b[0mfile\u001b[0m\u001b[0;34m)\u001b[0m\u001b[0;34m\u001b[0m\u001b[0;34m\u001b[0m\u001b[0m\n\u001b[0m\u001b[1;32m      4\u001b[0m     \u001b[0mspec\u001b[0m \u001b[0;34m=\u001b[0m \u001b[0mtorch\u001b[0m\u001b[0;34m.\u001b[0m\u001b[0mFloatTensor\u001b[0m\u001b[0;34m(\u001b[0m\u001b[0miim_np\u001b[0m\u001b[0;34m)\u001b[0m\u001b[0;34m\u001b[0m\u001b[0;34m\u001b[0m\u001b[0m\n\u001b[1;32m      5\u001b[0m     \u001b[0mout\u001b[0m \u001b[0;34m=\u001b[0m \u001b[0mnetwork\u001b[0m\u001b[0;34m(\u001b[0m\u001b[0mspec\u001b[0m\u001b[0;34m)\u001b[0m\u001b[0;34m\u001b[0m\u001b[0;34m\u001b[0m\u001b[0m\n",
      "\u001b[0;32m<ipython-input-80-9b2c856a999d>\u001b[0m in \u001b[0;36mloadData\u001b[0;34m(file)\u001b[0m\n\u001b[1;32m     53\u001b[0m     \u001b[0;32mfor\u001b[0m \u001b[0mi\u001b[0m \u001b[0;32min\u001b[0m \u001b[0mrange\u001b[0m\u001b[0;34m(\u001b[0m\u001b[0mheight\u001b[0m\u001b[0;34m)\u001b[0m\u001b[0;34m:\u001b[0m\u001b[0;34m\u001b[0m\u001b[0;34m\u001b[0m\u001b[0m\n\u001b[1;32m     54\u001b[0m         \u001b[0;32mfor\u001b[0m \u001b[0mj\u001b[0m \u001b[0;32min\u001b[0m \u001b[0mrange\u001b[0m\u001b[0;34m(\u001b[0m\u001b[0mwidth\u001b[0m\u001b[0;34m)\u001b[0m\u001b[0;34m:\u001b[0m\u001b[0;34m\u001b[0m\u001b[0;34m\u001b[0m\u001b[0m\n\u001b[0;32m---> 55\u001b[0;31m             \u001b[0mpos_lon\u001b[0m\u001b[0;34m[\u001b[0m\u001b[0mi\u001b[0m\u001b[0;34m*\u001b[0m\u001b[0mwidth\u001b[0m \u001b[0;34m+\u001b[0m \u001b[0mj\u001b[0m\u001b[0;34m]\u001b[0m \u001b[0;34m=\u001b[0m \u001b[0mfloat\u001b[0m\u001b[0;34m(\u001b[0m\u001b[0minf\u001b[0m\u001b[0;34m[\u001b[0m\u001b[0;36m6\u001b[0m\u001b[0;34m*\u001b[0m\u001b[0mheight_pixels\u001b[0m\u001b[0;34m*\u001b[0m\u001b[0mi\u001b[0m \u001b[0;34m+\u001b[0m \u001b[0;36m2\u001b[0m\u001b[0;34m]\u001b[0m\u001b[0;34m)\u001b[0m \u001b[0;34m+\u001b[0m \u001b[0mj\u001b[0m\u001b[0;34m*\u001b[0m\u001b[0;34m(\u001b[0m\u001b[0mfloat\u001b[0m\u001b[0;34m(\u001b[0m\u001b[0minf\u001b[0m\u001b[0;34m[\u001b[0m\u001b[0;36m6\u001b[0m\u001b[0;34m*\u001b[0m\u001b[0mheight_pixels\u001b[0m\u001b[0;34m*\u001b[0m\u001b[0mi\u001b[0m \u001b[0;34m+\u001b[0m \u001b[0;36m4\u001b[0m\u001b[0;34m]\u001b[0m\u001b[0;34m)\u001b[0m \u001b[0;34m-\u001b[0m \u001b[0mfloat\u001b[0m\u001b[0;34m(\u001b[0m\u001b[0minf\u001b[0m\u001b[0;34m[\u001b[0m\u001b[0;36m6\u001b[0m\u001b[0;34m*\u001b[0m\u001b[0mheight_pixels\u001b[0m\u001b[0;34m*\u001b[0m\u001b[0mi\u001b[0m \u001b[0;34m+\u001b[0m \u001b[0;36m2\u001b[0m\u001b[0;34m]\u001b[0m\u001b[0;34m)\u001b[0m\u001b[0;34m)\u001b[0m\u001b[0;34m/\u001b[0m\u001b[0mwidth\u001b[0m\u001b[0;34m\u001b[0m\u001b[0;34m\u001b[0m\u001b[0m\n\u001b[0m\u001b[1;32m     56\u001b[0m             \u001b[0mpos_lat\u001b[0m\u001b[0;34m[\u001b[0m\u001b[0mi\u001b[0m\u001b[0;34m*\u001b[0m\u001b[0mwidth\u001b[0m \u001b[0;34m+\u001b[0m \u001b[0mj\u001b[0m\u001b[0;34m]\u001b[0m \u001b[0;34m=\u001b[0m \u001b[0mfloat\u001b[0m\u001b[0;34m(\u001b[0m\u001b[0minf\u001b[0m\u001b[0;34m[\u001b[0m\u001b[0;36m6\u001b[0m\u001b[0;34m*\u001b[0m\u001b[0mheight_pixels\u001b[0m\u001b[0;34m*\u001b[0m\u001b[0mi\u001b[0m \u001b[0;34m+\u001b[0m \u001b[0;36m3\u001b[0m\u001b[0;34m]\u001b[0m\u001b[0;34m)\u001b[0m\u001b[0;34m\u001b[0m\u001b[0;34m\u001b[0m\u001b[0m\n\u001b[1;32m     57\u001b[0m \u001b[0;34m\u001b[0m\u001b[0m\n",
      "\u001b[0;31mValueError\u001b[0m: could not convert string to float: '10000.000010000.000010000.000010000.00002008-11-15T23:11:01.840Z'"
     ]
    }
   ],
   "source": [
    "for file in fileList:\n",
    "    file = file.replace('\\n','').replace('\\r','')# 除去换行符\n",
    "    total_pixel, position_lon, position_lat, iim_np = loadData(file)\n",
    "    spec = torch.FloatTensor(iim_np)\n",
    "    out = network(spec)\n",
    "    figure = out.detach().numpy().T\n",
    "    for i in range(total_pixel):\n",
    "        fig[int(5*position_lon[i])+900][int(5*position_lat[i])+450] = figure[0][i]"
   ]
  },
  {
   "cell_type": "markdown",
   "metadata": {},
   "source": [
    "经度划分为1800个密位，维度划分为900个密位，转换公式：\n",
    "\n",
    "经度 lon = int(5*lon) + 900\n",
    "\n",
    "纬度 lat = int(5*lat) + 450"
   ]
  },
  {
   "cell_type": "code",
   "execution_count": 88,
   "metadata": {},
   "outputs": [
    {
     "output_type": "display_data",
     "data": {
      "text/plain": "<Figure size 432x288 with 1 Axes>",
      "image/svg+xml": "<?xml version=\"1.0\" encoding=\"utf-8\" standalone=\"no\"?>\n<!DOCTYPE svg PUBLIC \"-//W3C//DTD SVG 1.1//EN\"\n  \"http://www.w3.org/Graphics/SVG/1.1/DTD/svg11.dtd\">\n<!-- Created with matplotlib (https://matplotlib.org/) -->\n<svg height=\"252.256944pt\" version=\"1.1\" viewBox=\"0 0 155.57 252.256944\" width=\"155.57pt\" xmlns=\"http://www.w3.org/2000/svg\" xmlns:xlink=\"http://www.w3.org/1999/xlink\">\n <defs>\n  <style type=\"text/css\">\n*{stroke-linecap:butt;stroke-linejoin:round;}\n  </style>\n </defs>\n <g id=\"figure_1\">\n  <g id=\"patch_1\">\n   <path d=\"M 0 252.256944 \nL 155.57 252.256944 \nL 155.57 0 \nL 0 0 \nz\n\" style=\"fill:none;\"/>\n  </g>\n  <g id=\"axes_1\">\n   <g id=\"patch_2\">\n    <path d=\"M 39.65 228.378819 \nL 148.37 228.378819 \nL 148.37 10.938819 \nL 39.65 10.938819 \nz\n\" style=\"fill:#ffffff;\"/>\n   </g>\n   <g clip-path=\"url(#pa4fab2fc0e)\">\n    <image height=\"218\" id=\"image706497ab02\" transform=\"scale(1 -1)translate(0 -218)\" width=\"109\" x=\"39.65\" xlink:href=\"data:image/png;base64,\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\" y=\"-10.378819\"/>\n   </g>\n   <g id=\"matplotlib.axis_1\">\n    <g id=\"xtick_1\">\n     <g id=\"line2d_1\">\n      <defs>\n       <path d=\"M 0 0 \nL 0 3.5 \n\" id=\"m260f4efd6d\" style=\"stroke:#000000;stroke-width:0.8;\"/>\n      </defs>\n      <g>\n       <use style=\"stroke:#000000;stroke-width:0.8;\" x=\"39.7104\" xlink:href=\"#m260f4efd6d\" y=\"228.378819\"/>\n      </g>\n     </g>\n     <g id=\"text_1\">\n      <!-- 0 -->\n      <defs>\n       <path d=\"M 31.78125 66.40625 \nQ 24.171875 66.40625 20.328125 58.90625 \nQ 16.5 51.421875 16.5 36.375 \nQ 16.5 21.390625 20.328125 13.890625 \nQ 24.171875 6.390625 31.78125 6.390625 \nQ 39.453125 6.390625 43.28125 13.890625 \nQ 47.125 21.390625 47.125 36.375 \nQ 47.125 51.421875 43.28125 58.90625 \nQ 39.453125 66.40625 31.78125 66.40625 \nz\nM 31.78125 74.21875 \nQ 44.046875 74.21875 50.515625 64.515625 \nQ 56.984375 54.828125 56.984375 36.375 \nQ 56.984375 17.96875 50.515625 8.265625 \nQ 44.046875 -1.421875 31.78125 -1.421875 \nQ 19.53125 -1.421875 13.0625 8.265625 \nQ 6.59375 17.96875 6.59375 36.375 \nQ 6.59375 54.828125 13.0625 64.515625 \nQ 19.53125 74.21875 31.78125 74.21875 \nz\n\" id=\"DejaVuSans-48\"/>\n      </defs>\n      <g transform=\"translate(36.52915 242.977256)scale(0.1 -0.1)\">\n       <use xlink:href=\"#DejaVuSans-48\"/>\n      </g>\n     </g>\n    </g>\n    <g id=\"xtick_2\">\n     <g id=\"line2d_2\">\n      <g>\n       <use style=\"stroke:#000000;stroke-width:0.8;\" x=\"100.1104\" xlink:href=\"#m260f4efd6d\" y=\"228.378819\"/>\n      </g>\n     </g>\n     <g id=\"text_2\">\n      <!-- 500 -->\n      <defs>\n       <path d=\"M 10.796875 72.90625 \nL 49.515625 72.90625 \nL 49.515625 64.59375 \nL 19.828125 64.59375 \nL 19.828125 46.734375 \nQ 21.96875 47.46875 24.109375 47.828125 \nQ 26.265625 48.1875 28.421875 48.1875 \nQ 40.625 48.1875 47.75 41.5 \nQ 54.890625 34.8125 54.890625 23.390625 \nQ 54.890625 11.625 47.5625 5.09375 \nQ 40.234375 -1.421875 26.90625 -1.421875 \nQ 22.3125 -1.421875 17.546875 -0.640625 \nQ 12.796875 0.140625 7.71875 1.703125 \nL 7.71875 11.625 \nQ 12.109375 9.234375 16.796875 8.0625 \nQ 21.484375 6.890625 26.703125 6.890625 \nQ 35.15625 6.890625 40.078125 11.328125 \nQ 45.015625 15.765625 45.015625 23.390625 \nQ 45.015625 31 40.078125 35.4375 \nQ 35.15625 39.890625 26.703125 39.890625 \nQ 22.75 39.890625 18.8125 39.015625 \nQ 14.890625 38.140625 10.796875 36.28125 \nz\n\" id=\"DejaVuSans-53\"/>\n      </defs>\n      <g transform=\"translate(90.56665 242.977256)scale(0.1 -0.1)\">\n       <use xlink:href=\"#DejaVuSans-53\"/>\n       <use x=\"63.623047\" xlink:href=\"#DejaVuSans-48\"/>\n       <use x=\"127.246094\" xlink:href=\"#DejaVuSans-48\"/>\n      </g>\n     </g>\n    </g>\n   </g>\n   <g id=\"matplotlib.axis_2\">\n    <g id=\"ytick_1\">\n     <g id=\"line2d_3\">\n      <defs>\n       <path d=\"M 0 0 \nL -3.5 0 \n\" id=\"m7177afab72\" style=\"stroke:#000000;stroke-width:0.8;\"/>\n      </defs>\n      <g>\n       <use style=\"stroke:#000000;stroke-width:0.8;\" x=\"39.65\" xlink:href=\"#m7177afab72\" y=\"10.999219\"/>\n      </g>\n     </g>\n     <g id=\"text_3\">\n      <!-- 0 -->\n      <g transform=\"translate(26.2875 14.798437)scale(0.1 -0.1)\">\n       <use xlink:href=\"#DejaVuSans-48\"/>\n      </g>\n     </g>\n    </g>\n    <g id=\"ytick_2\">\n     <g id=\"line2d_4\">\n      <g>\n       <use style=\"stroke:#000000;stroke-width:0.8;\" x=\"39.65\" xlink:href=\"#m7177afab72\" y=\"35.159219\"/>\n      </g>\n     </g>\n     <g id=\"text_4\">\n      <!-- 200 -->\n      <defs>\n       <path d=\"M 19.1875 8.296875 \nL 53.609375 8.296875 \nL 53.609375 0 \nL 7.328125 0 \nL 7.328125 8.296875 \nQ 12.9375 14.109375 22.625 23.890625 \nQ 32.328125 33.6875 34.8125 36.53125 \nQ 39.546875 41.84375 41.421875 45.53125 \nQ 43.3125 49.21875 43.3125 52.78125 \nQ 43.3125 58.59375 39.234375 62.25 \nQ 35.15625 65.921875 28.609375 65.921875 \nQ 23.96875 65.921875 18.8125 64.3125 \nQ 13.671875 62.703125 7.8125 59.421875 \nL 7.8125 69.390625 \nQ 13.765625 71.78125 18.9375 73 \nQ 24.125 74.21875 28.421875 74.21875 \nQ 39.75 74.21875 46.484375 68.546875 \nQ 53.21875 62.890625 53.21875 53.421875 \nQ 53.21875 48.921875 51.53125 44.890625 \nQ 49.859375 40.875 45.40625 35.40625 \nQ 44.1875 33.984375 37.640625 27.21875 \nQ 31.109375 20.453125 19.1875 8.296875 \nz\n\" id=\"DejaVuSans-50\"/>\n      </defs>\n      <g transform=\"translate(13.5625 38.958437)scale(0.1 -0.1)\">\n       <use xlink:href=\"#DejaVuSans-50\"/>\n       <use x=\"63.623047\" xlink:href=\"#DejaVuSans-48\"/>\n       <use x=\"127.246094\" xlink:href=\"#DejaVuSans-48\"/>\n      </g>\n     </g>\n    </g>\n    <g id=\"ytick_3\">\n     <g id=\"line2d_5\">\n      <g>\n       <use style=\"stroke:#000000;stroke-width:0.8;\" x=\"39.65\" xlink:href=\"#m7177afab72\" y=\"59.319219\"/>\n      </g>\n     </g>\n     <g id=\"text_5\">\n      <!-- 400 -->\n      <defs>\n       <path d=\"M 37.796875 64.3125 \nL 12.890625 25.390625 \nL 37.796875 25.390625 \nz\nM 35.203125 72.90625 \nL 47.609375 72.90625 \nL 47.609375 25.390625 \nL 58.015625 25.390625 \nL 58.015625 17.1875 \nL 47.609375 17.1875 \nL 47.609375 0 \nL 37.796875 0 \nL 37.796875 17.1875 \nL 4.890625 17.1875 \nL 4.890625 26.703125 \nz\n\" id=\"DejaVuSans-52\"/>\n      </defs>\n      <g transform=\"translate(13.5625 63.118437)scale(0.1 -0.1)\">\n       <use xlink:href=\"#DejaVuSans-52\"/>\n       <use x=\"63.623047\" xlink:href=\"#DejaVuSans-48\"/>\n       <use x=\"127.246094\" xlink:href=\"#DejaVuSans-48\"/>\n      </g>\n     </g>\n    </g>\n    <g id=\"ytick_4\">\n     <g id=\"line2d_6\">\n      <g>\n       <use style=\"stroke:#000000;stroke-width:0.8;\" x=\"39.65\" xlink:href=\"#m7177afab72\" y=\"83.479219\"/>\n      </g>\n     </g>\n     <g id=\"text_6\">\n      <!-- 600 -->\n      <defs>\n       <path d=\"M 33.015625 40.375 \nQ 26.375 40.375 22.484375 35.828125 \nQ 18.609375 31.296875 18.609375 23.390625 \nQ 18.609375 15.53125 22.484375 10.953125 \nQ 26.375 6.390625 33.015625 6.390625 \nQ 39.65625 6.390625 43.53125 10.953125 \nQ 47.40625 15.53125 47.40625 23.390625 \nQ 47.40625 31.296875 43.53125 35.828125 \nQ 39.65625 40.375 33.015625 40.375 \nz\nM 52.59375 71.296875 \nL 52.59375 62.3125 \nQ 48.875 64.0625 45.09375 64.984375 \nQ 41.3125 65.921875 37.59375 65.921875 \nQ 27.828125 65.921875 22.671875 59.328125 \nQ 17.53125 52.734375 16.796875 39.40625 \nQ 19.671875 43.65625 24.015625 45.921875 \nQ 28.375 48.1875 33.59375 48.1875 \nQ 44.578125 48.1875 50.953125 41.515625 \nQ 57.328125 34.859375 57.328125 23.390625 \nQ 57.328125 12.15625 50.6875 5.359375 \nQ 44.046875 -1.421875 33.015625 -1.421875 \nQ 20.359375 -1.421875 13.671875 8.265625 \nQ 6.984375 17.96875 6.984375 36.375 \nQ 6.984375 53.65625 15.1875 63.9375 \nQ 23.390625 74.21875 37.203125 74.21875 \nQ 40.921875 74.21875 44.703125 73.484375 \nQ 48.484375 72.75 52.59375 71.296875 \nz\n\" id=\"DejaVuSans-54\"/>\n      </defs>\n      <g transform=\"translate(13.5625 87.278437)scale(0.1 -0.1)\">\n       <use xlink:href=\"#DejaVuSans-54\"/>\n       <use x=\"63.623047\" xlink:href=\"#DejaVuSans-48\"/>\n       <use x=\"127.246094\" xlink:href=\"#DejaVuSans-48\"/>\n      </g>\n     </g>\n    </g>\n    <g id=\"ytick_5\">\n     <g id=\"line2d_7\">\n      <g>\n       <use style=\"stroke:#000000;stroke-width:0.8;\" x=\"39.65\" xlink:href=\"#m7177afab72\" y=\"107.639219\"/>\n      </g>\n     </g>\n     <g id=\"text_7\">\n      <!-- 800 -->\n      <defs>\n       <path d=\"M 31.78125 34.625 \nQ 24.75 34.625 20.71875 30.859375 \nQ 16.703125 27.09375 16.703125 20.515625 \nQ 16.703125 13.921875 20.71875 10.15625 \nQ 24.75 6.390625 31.78125 6.390625 \nQ 38.8125 6.390625 42.859375 10.171875 \nQ 46.921875 13.96875 46.921875 20.515625 \nQ 46.921875 27.09375 42.890625 30.859375 \nQ 38.875 34.625 31.78125 34.625 \nz\nM 21.921875 38.8125 \nQ 15.578125 40.375 12.03125 44.71875 \nQ 8.5 49.078125 8.5 55.328125 \nQ 8.5 64.0625 14.71875 69.140625 \nQ 20.953125 74.21875 31.78125 74.21875 \nQ 42.671875 74.21875 48.875 69.140625 \nQ 55.078125 64.0625 55.078125 55.328125 \nQ 55.078125 49.078125 51.53125 44.71875 \nQ 48 40.375 41.703125 38.8125 \nQ 48.828125 37.15625 52.796875 32.3125 \nQ 56.78125 27.484375 56.78125 20.515625 \nQ 56.78125 9.90625 50.3125 4.234375 \nQ 43.84375 -1.421875 31.78125 -1.421875 \nQ 19.734375 -1.421875 13.25 4.234375 \nQ 6.78125 9.90625 6.78125 20.515625 \nQ 6.78125 27.484375 10.78125 32.3125 \nQ 14.796875 37.15625 21.921875 38.8125 \nz\nM 18.3125 54.390625 \nQ 18.3125 48.734375 21.84375 45.5625 \nQ 25.390625 42.390625 31.78125 42.390625 \nQ 38.140625 42.390625 41.71875 45.5625 \nQ 45.3125 48.734375 45.3125 54.390625 \nQ 45.3125 60.0625 41.71875 63.234375 \nQ 38.140625 66.40625 31.78125 66.40625 \nQ 25.390625 66.40625 21.84375 63.234375 \nQ 18.3125 60.0625 18.3125 54.390625 \nz\n\" id=\"DejaVuSans-56\"/>\n      </defs>\n      <g transform=\"translate(13.5625 111.438437)scale(0.1 -0.1)\">\n       <use xlink:href=\"#DejaVuSans-56\"/>\n       <use x=\"63.623047\" xlink:href=\"#DejaVuSans-48\"/>\n       <use x=\"127.246094\" xlink:href=\"#DejaVuSans-48\"/>\n      </g>\n     </g>\n    </g>\n    <g id=\"ytick_6\">\n     <g id=\"line2d_8\">\n      <g>\n       <use style=\"stroke:#000000;stroke-width:0.8;\" x=\"39.65\" xlink:href=\"#m7177afab72\" y=\"131.799219\"/>\n      </g>\n     </g>\n     <g id=\"text_8\">\n      <!-- 1000 -->\n      <defs>\n       <path d=\"M 12.40625 8.296875 \nL 28.515625 8.296875 \nL 28.515625 63.921875 \nL 10.984375 60.40625 \nL 10.984375 69.390625 \nL 28.421875 72.90625 \nL 38.28125 72.90625 \nL 38.28125 8.296875 \nL 54.390625 8.296875 \nL 54.390625 0 \nL 12.40625 0 \nz\n\" id=\"DejaVuSans-49\"/>\n      </defs>\n      <g transform=\"translate(7.2 135.598437)scale(0.1 -0.1)\">\n       <use xlink:href=\"#DejaVuSans-49\"/>\n       <use x=\"63.623047\" xlink:href=\"#DejaVuSans-48\"/>\n       <use x=\"127.246094\" xlink:href=\"#DejaVuSans-48\"/>\n       <use x=\"190.869141\" xlink:href=\"#DejaVuSans-48\"/>\n      </g>\n     </g>\n    </g>\n    <g id=\"ytick_7\">\n     <g id=\"line2d_9\">\n      <g>\n       <use style=\"stroke:#000000;stroke-width:0.8;\" x=\"39.65\" xlink:href=\"#m7177afab72\" y=\"155.959219\"/>\n      </g>\n     </g>\n     <g id=\"text_9\">\n      <!-- 1200 -->\n      <g transform=\"translate(7.2 159.758437)scale(0.1 -0.1)\">\n       <use xlink:href=\"#DejaVuSans-49\"/>\n       <use x=\"63.623047\" xlink:href=\"#DejaVuSans-50\"/>\n       <use x=\"127.246094\" xlink:href=\"#DejaVuSans-48\"/>\n       <use x=\"190.869141\" xlink:href=\"#DejaVuSans-48\"/>\n      </g>\n     </g>\n    </g>\n    <g id=\"ytick_8\">\n     <g id=\"line2d_10\">\n      <g>\n       <use style=\"stroke:#000000;stroke-width:0.8;\" x=\"39.65\" xlink:href=\"#m7177afab72\" y=\"180.119219\"/>\n      </g>\n     </g>\n     <g id=\"text_10\">\n      <!-- 1400 -->\n      <g transform=\"translate(7.2 183.918437)scale(0.1 -0.1)\">\n       <use xlink:href=\"#DejaVuSans-49\"/>\n       <use x=\"63.623047\" xlink:href=\"#DejaVuSans-52\"/>\n       <use x=\"127.246094\" xlink:href=\"#DejaVuSans-48\"/>\n       <use x=\"190.869141\" xlink:href=\"#DejaVuSans-48\"/>\n      </g>\n     </g>\n    </g>\n    <g id=\"ytick_9\">\n     <g id=\"line2d_11\">\n      <g>\n       <use style=\"stroke:#000000;stroke-width:0.8;\" x=\"39.65\" xlink:href=\"#m7177afab72\" y=\"204.279219\"/>\n      </g>\n     </g>\n     <g id=\"text_11\">\n      <!-- 1600 -->\n      <g transform=\"translate(7.2 208.078437)scale(0.1 -0.1)\">\n       <use xlink:href=\"#DejaVuSans-49\"/>\n       <use x=\"63.623047\" xlink:href=\"#DejaVuSans-54\"/>\n       <use x=\"127.246094\" xlink:href=\"#DejaVuSans-48\"/>\n       <use x=\"190.869141\" xlink:href=\"#DejaVuSans-48\"/>\n      </g>\n     </g>\n    </g>\n   </g>\n   <g id=\"patch_3\">\n    <path d=\"M 39.65 228.378819 \nL 39.65 10.938819 \n\" style=\"fill:none;stroke:#000000;stroke-linecap:square;stroke-linejoin:miter;stroke-width:0.8;\"/>\n   </g>\n   <g id=\"patch_4\">\n    <path d=\"M 148.37 228.378819 \nL 148.37 10.938819 \n\" style=\"fill:none;stroke:#000000;stroke-linecap:square;stroke-linejoin:miter;stroke-width:0.8;\"/>\n   </g>\n   <g id=\"patch_5\">\n    <path d=\"M 39.65 228.378819 \nL 148.37 228.378819 \n\" style=\"fill:none;stroke:#000000;stroke-linecap:square;stroke-linejoin:miter;stroke-width:0.8;\"/>\n   </g>\n   <g id=\"patch_6\">\n    <path d=\"M 39.65 10.938819 \nL 148.37 10.938819 \n\" style=\"fill:none;stroke:#000000;stroke-linecap:square;stroke-linejoin:miter;stroke-width:0.8;\"/>\n   </g>\n  </g>\n </g>\n <defs>\n  <clipPath id=\"pa4fab2fc0e\">\n   <rect height=\"217.44\" width=\"108.72\" x=\"39.65\" y=\"10.938819\"/>\n  </clipPath>\n </defs>\n</svg>\n",
      "image/png": "[encoded data removed]"
     },
     "metadata": {
      "needs_background": "light"
     }
    }
   ],
   "source": [
    "# plt.pcolor(fig)\n",
    "# plt.show()\n",
    "figg = plt.imshow(fig, cmap ='gray')\n",
    "plt.imsave('test101.png', fig)\n",
    "plt.imsave('test101gray.png', fig, cmap='gray')"
   ]
  }
 ],
 "metadata": {
  "language_info": {
   "codemirror_mode": {
    "name": "ipython",
    "version": 3
   },
   "file_extension": ".py",
   "mimetype": "text/x-python",
   "name": "python",
   "nbconvert_exporter": "python",
   "pygments_lexer": "ipython3",
   "version": "3.7.7-final"
  },
  "orig_nbformat": 2,
  "kernelspec": {
   "name": "python37764bitpytorchcondad18ec039822f41e3ae2a3e8cab4fb4ef",
   "display_name": "Python 3.7.7 64-bit ('pytorch': conda)"
  }
 },
 "nbformat": 4,
 "nbformat_minor": 2
}