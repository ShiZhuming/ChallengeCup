{
 "cells": [
  {
   "cell_type": "code",
   "execution_count": null,
   "metadata": {},
   "outputs": [],
   "source": [
    "import math\n",
    "import numpy as np\n",
    "import matplotlib.pyplot as plt\n",
    "import struct\n",
    "import torch\n",
    "import torch.nn as nn\n",
    "import torch.nn.functional as F\n",
    "import torch.utils.data as D\n",
    "import os\n",
    "import multiprocessing as mp\n",
    "os.environ[\"KMP_DUPLICATE_LIB_OK\"] = \"TRUE\""
   ]
  },
  {
   "cell_type": "code",
   "execution_count": null,
   "metadata": {},
   "outputs": [],
   "source": [
    "def loadData(file):\n",
    "    try:\n",
    "        File = open(file, 'rb')\n",
    "    except IOError:\n",
    "        print(\"open error\")\n",
    "        File.close()\n",
    "        return\n",
    "    \n",
    "    # 读取文件头\n",
    "    label = {\n",
    "        'RECORD_BYTES':0,\n",
    "        'FILE_RECORDS':0,\n",
    "        'LABEL_RECORDS':0,\n",
    "        '^IMAGE':0,\n",
    "        '^IMAGE_PREFIX':0,\n",
    "        '  ROWS':0,\n",
    "        '  ROW_BYTES':0,\n",
    "        '  LINES':0,\n",
    "        }\n",
    "    while True:\n",
    "        line = File.readline()\n",
    "        lbl = line.decode('utf8').replace('\\t', '').strip('\\n').split(\"=\")\n",
    "        if lbl[0] == 'END':# 文件头读完了\n",
    "            break\n",
    "        if lbl[0] in label:\n",
    "            label[lbl[0]] = int(lbl[1])\n",
    "\n",
    "    # 跳过空行\n",
    "    skip = File.readline()\n",
    "    \n",
    "    # 线阵数量\n",
    "    lines = label['  LINES']\n",
    "\n",
    "    # 每个像素由32*32个像素取平均构成，坐标取第一个像素的起始点的纬度经度跨越的四分点\n",
    "    height_pixels = 32\n",
    "    width_pixels = 32\n",
    "    \n",
    "    height = int(lines/height_pixels)\n",
    "    width = int(128/width_pixels)\n",
    "\n",
    "    total = height*width\n",
    "\n",
    "    skip_lines = lines%height_pixels\n",
    "\n",
    "    # 读取经纬度列表，位置直接对应对应点的索引位置\n",
    "    inf = File.readline(67*lines)\n",
    "    inf = inf.decode('utf8').replace(' ', '').split(\"\\t\")# 整行经纬度表都在这里\n",
    "\n",
    "    pos_lon = np.empty((total))# 经度\n",
    "    pos_lat = np.empty((total))# 维度\n",
    "\n",
    "    # 每个线阵的数据格式：2008-12-04T05:04:01.420Z\t0\t 121.2097\t -77.4942\t 124.8695\t -77.4382\t\n",
    "    for i in range(height):\n",
    "        for j in range(width):\n",
    "            pos_lon[i*width + j] = float(inf[6*height_pixels*i + 2]) + j*(float(inf[6*height_pixels*i + 4]) - float(inf[6*height_pixels*i + 2]))/width\n",
    "            pos_lat[i*width + j] = float(inf[6*height_pixels*i + 3])\n",
    "\n",
    "    # 经纬度表后面有部分补全符号，剔除\n",
    "    skip = File.readline(label['  ROWS']*label['  ROW_BYTES']-67*lines)\n",
    "\n",
    "    # 读图像\n",
    "    f = File.read()\n",
    "\n",
    "    iim_np = np.empty((total,21))# iim图像记录，total，21个波段连续记录\n",
    "    # print(iim_np)# test\n",
    "\n",
    "    # 使用的波段记录\n",
    "    useBand = [i for i in range(11,32)]\n",
    "    usepBand = tuple(useBand)\n",
    "\n",
    "    fmt = '>' + str(width_pixels) + 'f'\n",
    "    offset = 0\n",
    "    skipset = 4*128*lines# 对于不用的波段，全波段跳过一共n条线阵*128*4bytes的大小\n",
    "    # print(skipset) # test\n",
    "\n",
    "    for band in range(32):# test\n",
    "        if band not in useBand:\n",
    "            offset += skipset# 跳过整个波段\n",
    "            continue\n",
    "        # for line in range(label['  LINES']):\n",
    "        pixel = 0\n",
    "        while pixel < total:# 开始处理4个像素\n",
    "            temp = np.zeros(width)\n",
    "\n",
    "            # print(temp) # test\n",
    "\n",
    "            for line in range(height_pixels):\n",
    "                for unit in range(width):\n",
    "                    temp[unit] += np.mean(struct.unpack_from(fmt, f, offset))\n",
    "                    offset += struct.calcsize(fmt)\n",
    "            # # where is nan???\n",
    "            # if np.min(temp) == np.nan or np.max(temp) != np.nan:\n",
    "            #     print('nan!',offset)\n",
    "            #     raise NameError\n",
    "\n",
    "            for unit in range(width):\n",
    "                iim_np[pixel][band - 11] = temp[unit]/32.0\n",
    "                pixel += 1\n",
    "        offset += 4*128*skip_lines# 尾部用不到的线阵\n",
    "    print(\"load a file finished\")# test\n",
    "    File.close()\n",
    "    # print(np.shape(iim_np))\n",
    "    # # 哪来的nan？？？\n",
    "    # if np.min(iim_np) == np.nan or np.max(iim_np) != np.nan:\n",
    "    #     print('nan!')\n",
    "    #     raise TypeError\n",
    "    return total, pos_lon, pos_lat, iim_np"
   ]
  },
  {
   "cell_type": "code",
   "execution_count": null,
   "metadata": {},
   "outputs": [],
   "source": [
    "def loadFileList(file):\n",
    "    files = open(file,'r')\n",
    "    f = files.readlines()\n",
    "    files.close()\n",
    "    return [item.replace('\\n','').replace('\\r','') for item in f]"
   ]
  },
  {
   "cell_type": "code",
   "execution_count": null,
   "metadata": {},
   "outputs": [],
   "source": [
    "class Network(nn.Module):\n",
    "    def __init__(self, n_feature, n_hidden, n_output):\n",
    "        super(Network, self).__init__()\n",
    "        self.fc = torch.nn.Linear(n_feature, n_hidden)\n",
    "        self.out = torch.nn.Linear(n_hidden, n_output)\n",
    "\n",
    "    def forward(self, x):\n",
    "        x = F.relu(self.fc(x))\n",
    "        x = self.out(x)\n",
    "        x = F.sigmoid(x)\n",
    "        x = 100*x\n",
    "        return x"
   ]
  },
  {
   "cell_type": "code",
   "execution_count": null,
   "metadata": {},
   "outputs": [],
   "source": [
    "# 初始化模型\n",
    "filestr='./modelV'\n",
    "network = torch.load(filestr)"
   ]
  },
  {
   "cell_type": "code",
   "execution_count": null,
   "metadata": {},
   "outputs": [],
   "source": [
    "# 载入2C文件路径\n",
    "file = 'files400.txt'\n",
    "\n",
    "fileList = loadFileList(file)\n",
    "# fileList = ('/mnt/c/ShareCache/施朱鸣_1800011723/Expe/TrainingSet/CE1_IIM_2C_20081112091027_20081130231727_A/DATA/CE1_BMYK_IIM_SCI_N_20080702001309_20080702021955_2700_A.2C',)\n",
    "# fileList = ('/mnt/c/ShareCache/施朱鸣_1800011723/Expe/TrainingSet/CE1_IIM_2C_20081112091027_20081130231727_A/DATA/CE1_BMYK_IIM_SCI_N_20081202154348_20081202175129_4439_A.2C',)"
   ]
  },
  {
   "cell_type": "code",
   "execution_count": null,
   "metadata": {},
   "outputs": [],
   "source": [
    "# 初始化图，全局变量！\n",
    "# fig = np.zeros((8,900,1800))\n",
    "# fig = mp.Array('f', 8*900*1800)"
   ]
  },
  {
   "cell_type": "code",
   "execution_count": null,
   "metadata": {},
   "outputs": [],
   "source": [
    "iim = np.zeros((21*900*1800))\n",
    "iim = mp.Array('f',iim)\n"
   ]
  },
  {
   "cell_type": "code",
   "execution_count": null,
   "metadata": {},
   "outputs": [],
   "source": [
    "def runs(file):\n",
    "    Nnan = 0\n",
    "    Nillegal = 0\n",
    "    Nnum = 0\n",
    "    # global fig\n",
    "    # print('what happend')\n",
    "    try:\n",
    "        total_pixel, position_lon, position_lat, iim_np = loadData(file)\n",
    "    # except TypeError:\n",
    "    #     print('nan in iim of ',file,'error!')\n",
    "    #     return\n",
    "    # except NameError:\n",
    "    #     print('nan in temp of ',file,'error!')\n",
    "    #     return\n",
    "\n",
    "    except BaseException:\n",
    "        print('open file ',file,'error!')\n",
    "        return\n",
    "    # print(file)\n",
    "\n",
    "    # 记录抽取的数据\n",
    "    for band in range(21):\n",
    "        for i in range(total_pixel):\n",
    "            # fig[band][int(5*position_lat[i])+450][int(5*position_lon[i])+900] = figure[band][i]\n",
    "            if math.isnan(iim_np[i][band]):# 跳过nan\n",
    "                Nnan += 1\n",
    "                continue\n",
    "            elif iim_np[i][band]>1.0001 or iim_np[i][band]<-0.0001:\n",
    "                Nillegal += 1\n",
    "                continue\n",
    "            else :\n",
    "                Nnum += 1\n",
    "                iim[band*900*1800+(int(5*position_lat[i])+450)*1800+int(5*position_lon[i])+900] = iim_np[i][band]\n",
    "\n",
    "    # 喂给网络\n",
    "    # spec = torch.FloatTensor(iim_np)\n",
    "    # out = network(spec)\n",
    "    # figure = out.detach().numpy().T\n",
    "    # for band in range(8):\n",
    "    #     for i in range(total_pixel):\n",
    "    #         # fig[band][int(5*position_lat[i])+450][int(5*position_lon[i])+900] = figure[band][i]\n",
    "    #         if math.isnan(figure[band][i]):\n",
    "    #             Nnan += 1\n",
    "    #             continue\n",
    "    #         else :\n",
    "    #             Nnum += 1\n",
    "    #         fig[band*900*1800+(int(5*position_lat[i])+450) *\n",
    "    #             1800+int(5*position_lon[i])+900] = figure[band][i]\n",
    "    print(file[-10:-4],'nillegal:',Nillegal,'nan:',Nnan,'num:',Nnum)"
   ]
  },
  {
   "cell_type": "code",
   "execution_count": null,
   "metadata": {},
   "outputs": [],
   "source": [
    "# 多线程设定发\n",
    "cores=mp.cpu_count()\n",
    "pool=mp.Pool(processes=cores)\n",
    "# 多线程读写图\n",
    "pool.map(runs,fileList)"
   ]
  },
  {
   "cell_type": "code",
   "execution_count": null,
   "metadata": {},
   "outputs": [],
   "source": [
    "print('load data finished')"
   ]
  },
  {
   "cell_type": "code",
   "execution_count": null,
   "metadata": {},
   "outputs": [],
   "source": [
    "iim = np.array(list(iim)).reshape((21,900*1800))\n",
    "np.save(\"nancatch400iim.np\",iim)\n",
    "\n",
    "spec = torch.FloatTensor(iim.T)\n",
    "out = network(spec)\n",
    "figure = out.detach().numpy().T\n",
    "fig = figure.reshape(8, 900, 1800)"
   ]
  },
  {
   "cell_type": "code",
   "execution_count": null,
   "metadata": {},
   "outputs": [],
   "source": [
    "# 把压缩的数组恢复\n",
    "# fig = np.array(list(fig)).reshape((8, 900, 1800))"
   ]
  },
  {
   "cell_type": "markdown",
   "metadata": {},
   "source": [
    "经度划分为1800个密位，维度划分为900个密位，转换公式：\n",
    "\n",
    "经度 lon = int(5*lon) + 900\n",
    "\n",
    "纬度 lat = int(5*lat) + 450"
   ]
  },
  {
   "cell_type": "code",
   "execution_count": null,
   "metadata": {},
   "outputs": [],
   "source": []
  },
  {
   "cell_type": "code",
   "execution_count": null,
   "metadata": {},
   "outputs": [],
   "source": [
    "# # 存取图，避免重复读取大数据\n",
    "np.save(\"nancatch400fig.np\",fig)\n",
    "# b = np.load(\"fig.np\")"
   ]
  },
  {
   "cell_type": "code",
   "execution_count": null,
   "metadata": {},
   "outputs": [],
   "source": [
    "# 作图，先作一个维度看看\n",
    "# plt.imshow(fig[0], cmap ='gray')\n",
    "# plt.imsave('nancatch20.png', fig[0])\n",
    "# plt.imsave('nancatch20gray.png', fig[0], cmap='gray')"
   ]
  },
  {
   "cell_type": "code",
   "execution_count": null,
   "metadata": {},
   "outputs": [],
   "source": [
    "for i in range(8):\n",
    "    plt.imsave('nancatch400gray'+str(i)+'.png', fig[i], cmap='gray')"
   ]
  }
 ],
 "metadata": {
  "language_info": {
   "codemirror_mode": {
    "name": "ipython",
    "version": 3
   },
   "file_extension": ".py",
   "mimetype": "text/x-python",
   "name": "python",
   "nbconvert_exporter": "python",
   "pygments_lexer": "ipython3",
   "version": "3.7.7-final"
  },
  "orig_nbformat": 2,
  "kernelspec": {
   "name": "python37764bitpytorchcondad18ec039822f41e3ae2a3e8cab4fb4ef",
   "display_name": "Python 3.7.7 64-bit ('pytorch': conda)"
  }
 },
 "nbformat": 4,
 "nbformat_minor": 2
}