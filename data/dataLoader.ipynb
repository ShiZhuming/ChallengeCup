{
 "cells": [
  {
   "cell_type": "code",
   "execution_count": 148,
   "metadata": {},
   "outputs": [],
   "source": [
    "import numpy as np\n",
    "import matplotlib.pyplot as plt\n",
    "import struct\n",
    "import torch\n",
    "import torch.nn as nn\n",
    "import torch.nn.functional as F\n",
    "import torch.utils.data as D"
   ]
  },
  {
   "cell_type": "code",
   "execution_count": 149,
   "metadata": {},
   "outputs": [],
   "source": [
    "file = \"CE1_BMYK_IIM_SCI_N_20081204060238_20081204081021_4457_A.2C\""
   ]
  },
  {
   "cell_type": "code",
   "execution_count": 150,
   "metadata": {},
   "outputs": [],
   "source": [
    "file = \"CE1_BMYK_IIM_SCI_N_20081204035456_20081204060237_4456_A.2C\""
   ]
  },
  {
   "cell_type": "code",
   "execution_count": 151,
   "metadata": {},
   "outputs": [],
   "source": [
    "# import pds3"
   ]
  },
  {
   "cell_type": "code",
   "execution_count": 152,
   "metadata": {},
   "outputs": [],
   "source": [
    "# lbl = PDS3Label(file)\n",
    "# r = lbl['RECORD_LENGTH']\n",
    "# shape = lbl['IMAGE']['LINES'], lbl['IMAGE']['LINE_SAMPLES']"
   ]
  },
  {
   "cell_type": "code",
   "execution_count": 153,
   "metadata": {},
   "outputs": [],
   "source": [
    "try:\n",
    "    File = open(file, 'rb')\n",
    "except IOError:\n",
    "    print(\"open error\")\n",
    "    File.close()\n",
    "\n",
    "# f = File.read()\n",
    "# offset=0\n",
    "# fmt = '>cccc'\n",
    "# test = struct.unpack_from(fmt, f, offset)\n",
    "# test = f[2000:2500]\n"
   ]
  },
  {
   "cell_type": "code",
   "execution_count": 154,
   "metadata": {},
   "outputs": [
    {
     "output_type": "stream",
     "name": "stdout",
     "text": "b'PDS_VERSION_ID\\t\\t\\t=PDS3\\n'\nPDS_VERSION_ID=PDS3\n\n['PDS_VERSION_ID', 'PDS3\\n']\nb'RECORD_TYPE\\t\\t\\t=FIXED_LENGTH\\n'\nRECORD_TYPE=FIXED_LENGTH\n\n['RECORD_TYPE', 'FIXED_LENGTH\\n']\nb'RECORD_BYTES\\t\\t\\t=512\\n'\nRECORD_BYTES=512\n\n['RECORD_BYTES', '512\\n']\nb'FILE_RECORDS\\t\\t\\t=714621\\n'\nFILE_RECORDS=714621\n\n['FILE_RECORDS', '714621\\n']\nb'LABEL_RECORDS\\t\\t\\t=30\\n'\nLABEL_RECORDS=30\n\n['LABEL_RECORDS', '30\\n']\nb'^IMAGE\\t\\t\\t=2942\\n'\n^IMAGE=2942\n\n['^IMAGE', '2942\\n']\nb'^IMAGE_PREFIX\\t\\t\\t=31\\n'\n^IMAGE_PREFIX=31\n\n['^IMAGE_PREFIX', '31\\n']\nb'DATA_SET_ID\\t\\t\\t=\\n'\nDATA_SET_ID=\n\n['DATA_SET_ID', '\\n']\nb'PRODUCT_NAME\\t\\t\\t=Imaging Interferometer Science Data Product\\n'\nPRODUCT_NAME=Imaging Interferometer Science Data Product\n\n['PRODUCT_NAME', 'Imaging Interferometer Science Data Product\\n']\nb'PRODUCT_ID\\t\\t\\t=CE1_IIM_2C\\n'\nPRODUCT_ID=CE1_IIM_2C\n\n['PRODUCT_ID', 'CE1_IIM_2C\\n']\nb'PUBLICATION_DATE\\t\\t\\t=2008-12-06T03:21:47.000Z\\n'\nPUBLICATION_DATE=2008-12-06T03:21:47.000Z\n\n['PUBLICATION_DATE', '2008-12-06T03:21:47.000Z\\n']\nb'PRODUCT_CREATION_TIME\\t\\t\\t=2008-12-06T03:21:47.000Z\\n'\nPRODUCT_CREATION_TIME=2008-12-06T03:21:47.000Z\n\n['PRODUCT_CREATION_TIME', '2008-12-06T03:21:47.000Z\\n']\nb'SPACECRAFT_NAME\\t\\t\\t=\"CE1\"\\n'\nSPACECRAFT_NAME=\"CE1\"\n\n['SPACECRAFT_NAME', '\"CE1\"\\n']\nb'INTERCHANGE_FORMAT\\t\\t\\t=BINARY\\n'\nINTERCHANGE_FORMAT=BINARY\n\n['INTERCHANGE_FORMAT', 'BINARY\\n']\nb'BAND_NUMBER\\t\\t\\t=32\\n'\nBAND_NUMBER=32\n\n['BAND_NUMBER', '32\\n']\nb'CENTER_FILTER_WAVELENGTH\\t\\t\\t={480.914286   488.670968   496.681967   504.960000   513.518644   522.372414   531.536842   541.028571   550.865455   561.066667   571.652830   582.646154   594.070588   605.952000   618.318367   631.200000   644.629787   658.643478   673.280000   688.581818   704.595349   721.371429   738.965854   757.440000   776.861538   797.305263   818.854054   841.600000   865.645714   891.105882   918.109091   946.800000}\\n'\nCENTER_FILTER_WAVELENGTH={480.914286   488.670968   496.681967   504.960000   513.518644   522.372414   531.536842   541.028571   550.865455   561.066667   571.652830   582.646154   594.070588   605.952000   618.318367   631.200000   644.629787   658.643478   673.280000   688.581818   704.595349   721.371429   738.965854   757.440000   776.861538   797.305263   818.854054   841.600000   865.645714   891.105882   918.109091   946.800000}\n\n['CENTER_FILTER_WAVELENGTH', '{480.914286   488.670968   496.681967   504.960000   513.518644   522.372414   531.536842   541.028571   550.865455   561.066667   571.652830   582.646154   594.070588   605.952000   618.318367   631.200000   644.629787   658.643478   673.280000   688.581818   704.595349   721.371429   738.965854   757.440000   776.861538   797.305263   818.854054   841.600000   865.645714   891.105882   918.109091   946.800000}\\n']\nb'BANDWIDTH\\t\\t\\t=325.5cm-1\\n'\nBANDWIDTH=325.5cm-1\n\n['BANDWIDTH', '325.5cm-1\\n']\nb'BAND_MIX\\t\\t\\t=N\\n'\nBAND_MIX=N\n\n['BAND_MIX', 'N\\n']\nb'OBJECT\\t\\t\\t=IMAGE_PREFIX\\n'\nOBJECT=IMAGE_PREFIX\n\n['OBJECT', 'IMAGE_PREFIX\\n']\nb'  ROWS\\t\\t\\t=2911\\n'\n  ROWS=2911\n\n['  ROWS', '2911\\n']\nb'  ROW_BYTES\\t\\t\\t=512\\n'\n  ROW_BYTES=512\n\n['  ROW_BYTES', '512\\n']\nb'  COLUMNS\\t\\t\\t=6\\n'\n  COLUMNS=6\n\n['  COLUMNS', '6\\n']\nb'  OBJECT\\t\\t\\t=COLUMN\\n'\n  OBJECT=COLUMN\n\n['  OBJECT', 'COLUMN\\n']\nb'    NAME\\t\\t\\t=\"Time\"\\n'\n    NAME=\"Time\"\n\n['    NAME', '\"Time\"\\n']\nb'    COLUMN_NUMBER\\t\\t\\t=1\\n'\n    COLUMN_NUMBER=1\n\n['    COLUMN_NUMBER', '1\\n']\nb'    DATA_TYPE\\t\\t\\t=DATE\\n'\n    DATA_TYPE=DATE\n\n['    DATA_TYPE', 'DATE\\n']\nb'    START_BYTE\\t\\t\\t=1\\n'\n    START_BYTE=1\n\n['    START_BYTE', '1\\n']\nb'    BYTES\\t\\t\\t=24\\n'\n    BYTES=24\n\n['    BYTES', '24\\n']\nb'    FORMAT\\t\\t\\t=\"A24\"\\n'\n    FORMAT=\"A24\"\n\n['    FORMAT', '\"A24\"\\n']\nb'    UNIT\\t\\t\\t=N/A\\n'\n    UNIT=N/A\n\n['    UNIT', 'N/A\\n']\nb'    DESCRIPTION\\t\\t\\t=\"Satellite time(UTC)\"\\r\\n'\n    DESCRIPTION=\"Satellite time(UTC)\"\n\n['    DESCRIPTION', '\"Satellite time(UTC)\"\\r\\n']\nb'  END_OBJECT\\t\\t\\t=COLUMN\\n'\n  END_OBJECT=COLUMN\n\n['  END_OBJECT', 'COLUMN\\n']\nb'  OBJECT\\t\\t\\t=COLUMN\\n'\n  OBJECT=COLUMN\n\n['  OBJECT', 'COLUMN\\n']\nb'    NAME\\t\\t\\t=\"Flag\"\\n'\n    NAME=\"Flag\"\n\n['    NAME', '\"Flag\"\\n']\nb'    COLUMN_NUMBER\\t\\t\\t=2\\n'\n    COLUMN_NUMBER=2\n\n['    COLUMN_NUMBER', '2\\n']\nb'    DATA_TYPE\\t\\t\\t=ASCII_INTEGER\\n'\n    DATA_TYPE=ASCII_INTEGER\n\n['    DATA_TYPE', 'ASCII_INTEGER\\n']\nb'    START_BYTE\\t\\t\\t=26\\n'\n    START_BYTE=26\n\n['    START_BYTE', '26\\n']\nb'    BYTES\\t\\t\\t=1\\n'\n    BYTES=1\n\n['    BYTES', '1\\n']\nb'    FORMAT\\t\\t\\t=\"I1\"\\n'\n    FORMAT=\"I1\"\n\n['    FORMAT', '\"I1\"\\n']\nb'    UNIT\\t\\t\\t=N/A\\n'\n    UNIT=N/A\n\n['    UNIT', 'N/A\\n']\nb'    DESCRIPTION\\t\\t\\t=\"N/A\"\\r\\n'\n    DESCRIPTION=\"N/A\"\n\n['    DESCRIPTION', '\"N/A\"\\r\\n']\nb'  END_OBJECT\\t\\t\\t=COLUMN\\n'\n  END_OBJECT=COLUMN\n\n['  END_OBJECT', 'COLUMN\\n']\nb'  OBJECT\\t\\t\\t=COLUMN\\n'\n  OBJECT=COLUMN\n\n['  OBJECT', 'COLUMN\\n']\nb'    NAME\\t\\t\\t=\"Longitude 1\"\\n'\n    NAME=\"Longitude 1\"\n\n['    NAME', '\"Longitude 1\"\\n']\nb'    COLUMN_NUMBER\\t\\t\\t=3\\n'\n    COLUMN_NUMBER=3\n\n['    COLUMN_NUMBER', '3\\n']\nb'    DATA_TYPE\\t\\t\\t=FLOAT\\n'\n    DATA_TYPE=FLOAT\n\n['    DATA_TYPE', 'FLOAT\\n']\nb'    START_BYTE\\t\\t\\t=28\\n'\n    START_BYTE=28\n\n['    START_BYTE', '28\\n']\nb'    BYTES\\t\\t\\t=9\\n'\n    BYTES=9\n\n['    BYTES', '9\\n']\nb'    FORMAT\\t\\t\\t=\"F9.4\"\\n'\n    FORMAT=\"F9.4\"\n\n['    FORMAT', '\"F9.4\"\\n']\nb'    UNIT\\t\\t\\t=Degree\\n'\n    UNIT=Degree\n\n['    UNIT', 'Degree\\n']\nb'    DESCRIPTION\\t\\t\\t=\"N/A \"\\r\\n'\n    DESCRIPTION=\"N/A \"\n\n['    DESCRIPTION', '\"N/A \"\\r\\n']\nb'  END_OBJECT\\t\\t\\t=COLUMN\\n'\n  END_OBJECT=COLUMN\n\n['  END_OBJECT', 'COLUMN\\n']\nb'  OBJECT\\t\\t\\t=COLUMN\\n'\n  OBJECT=COLUMN\n\n['  OBJECT', 'COLUMN\\n']\nb'    NAME\\t\\t\\t=\"Latitude  1\"\\n'\n    NAME=\"Latitude  1\"\n\n['    NAME', '\"Latitude  1\"\\n']\nb'    COLUMN_NUMBER\\t\\t\\t=4\\n'\n    COLUMN_NUMBER=4\n\n['    COLUMN_NUMBER', '4\\n']\nb'    DATA_TYPE\\t\\t\\t=FLOAT\\n'\n    DATA_TYPE=FLOAT\n\n['    DATA_TYPE', 'FLOAT\\n']\nb'    START_BYTE\\t\\t\\t=38\\n'\n    START_BYTE=38\n\n['    START_BYTE', '38\\n']\nb'    BYTES\\t\\t\\t=9\\n'\n    BYTES=9\n\n['    BYTES', '9\\n']\nb'    FORMAT\\t\\t\\t=\"F9.4\"\\n'\n    FORMAT=\"F9.4\"\n\n['    FORMAT', '\"F9.4\"\\n']\nb'    UNIT\\t\\t\\t=Degree\\n'\n    UNIT=Degree\n\n['    UNIT', 'Degree\\n']\nb'    DESCRIPTION\\t\\t\\t=\"N/A \"\\r\\n'\n    DESCRIPTION=\"N/A \"\n\n['    DESCRIPTION', '\"N/A \"\\r\\n']\nb'  END_OBJECT\\t\\t\\t=COLUMN\\n'\n  END_OBJECT=COLUMN\n\n['  END_OBJECT', 'COLUMN\\n']\nb'  OBJECT\\t\\t\\t=COLUMN\\n'\n  OBJECT=COLUMN\n\n['  OBJECT', 'COLUMN\\n']\nb'    NAME\\t\\t\\t=\"Longitude 128\"\\n'\n    NAME=\"Longitude 128\"\n\n['    NAME', '\"Longitude 128\"\\n']\nb'    COLUMN_NUMBER\\t\\t\\t=5\\n'\n    COLUMN_NUMBER=5\n\n['    COLUMN_NUMBER', '5\\n']\nb'    DATA_TYPE\\t\\t\\t=FLOAT\\n'\n    DATA_TYPE=FLOAT\n\n['    DATA_TYPE', 'FLOAT\\n']\nb'    START_BYTE\\t\\t\\t=48\\n'\n    START_BYTE=48\n\n['    START_BYTE', '48\\n']\nb'    BYTES\\t\\t\\t=9\\n'\n    BYTES=9\n\n['    BYTES', '9\\n']\nb'    FORMAT\\t\\t\\t=\"F9.4\"\\n'\n    FORMAT=\"F9.4\"\n\n['    FORMAT', '\"F9.4\"\\n']\nb'    UNIT\\t\\t\\t=Degree\\n'\n    UNIT=Degree\n\n['    UNIT', 'Degree\\n']\nb'    DESCRIPTION\\t\\t\\t=\"N/A \"\\r\\n'\n    DESCRIPTION=\"N/A \"\n\n['    DESCRIPTION', '\"N/A \"\\r\\n']\nb'  END_OBJECT\\t\\t\\t=COLUMN\\n'\n  END_OBJECT=COLUMN\n\n['  END_OBJECT', 'COLUMN\\n']\nb'  OBJECT\\t\\t\\t=COLUMN\\n'\n  OBJECT=COLUMN\n\n['  OBJECT', 'COLUMN\\n']\nb'    NAME\\t\\t\\t=\"Latitude  128\"\\n'\n    NAME=\"Latitude  128\"\n\n['    NAME', '\"Latitude  128\"\\n']\nb'    COLUMN_NUMBER\\t\\t\\t=6\\n'\n    COLUMN_NUMBER=6\n\n['    COLUMN_NUMBER', '6\\n']\nb'    DATA_TYPE\\t\\t\\t=FLOAT\\n'\n    DATA_TYPE=FLOAT\n\n['    DATA_TYPE', 'FLOAT\\n']\nb'    START_BYTE\\t\\t\\t=58\\n'\n    START_BYTE=58\n\n['    START_BYTE', '58\\n']\nb'    BYTES\\t\\t\\t=9\\n'\n    BYTES=9\n\n['    BYTES', '9\\n']\nb'    FORMAT\\t\\t\\t=\"F9.4\"\\n'\n    FORMAT=\"F9.4\"\n\n['    FORMAT', '\"F9.4\"\\n']\nb'    UNIT\\t\\t\\t=Degree\\n'\n    UNIT=Degree\n\n['    UNIT', 'Degree\\n']\nb'  END_OBJECT\\t\\t\\t=COLUMN\\n'\n  END_OBJECT=COLUMN\n\n['  END_OBJECT', 'COLUMN\\n']\nb'END_OBJECT\\t\\t\\t=IMAGE_PREFIX\\n'\nEND_OBJECT=IMAGE_PREFIX\n\n['END_OBJECT', 'IMAGE_PREFIX\\n']\nb'OBJECT\\t\\t\\t=IMAGE\\n'\nOBJECT=IMAGE\n\n['OBJECT', 'IMAGE\\n']\nb'  BANDS\\t\\t\\t=32\\n'\n  BANDS=32\n\n['  BANDS', '32\\n']\nb'  BAND_STORAGE_TYPE\\t\\t\\t=BAND_SEQUENTIAL\\n'\n  BAND_STORAGE_TYPE=BAND_SEQUENTIAL\n\n['  BAND_STORAGE_TYPE', 'BAND_SEQUENTIAL\\n']\nb'  BAND_NAME\\t\\t\\t=N/A\\n'\n  BAND_NAME=N/A\n\n['  BAND_NAME', 'N/A\\n']\nb'  LINES\\t\\t\\t=22240\\n'\n  LINES=22240\n\n['  LINES', '22240\\n']\nb'  LINE_SAMPLES\\t\\t\\t=128\\n'\n  LINE_SAMPLES=128\n\n['  LINE_SAMPLES', '128\\n']\nb'  SAMPLE_TYPE\\t\\t\\t=IEEE_REAL\\n'\n  SAMPLE_TYPE=IEEE_REAL\n\n['  SAMPLE_TYPE', 'IEEE_REAL\\n']\nb'  SAMPLE_BITS\\t\\t\\t=32\\n'\n  SAMPLE_BITS=32\n\n['  SAMPLE_BITS', '32\\n']\nb'END_OBJECT\\t\\t\\t=IMAGE\\n'\nEND_OBJECT=IMAGE\n\n['END_OBJECT', 'IMAGE\\n']\nb'END\\n'\nEND\n\n['END\\n']\n"
    }
   ],
   "source": [
    "label = {\n",
    "    'RECORD_BYTES':0,\n",
    "    'FILE_RECORDS':0,\n",
    "    'LABEL_RECORDS':0,\n",
    "    '^IMAGE':0,\n",
    "    '^IMAGE_PREFIX':0,\n",
    "    '  ROWS':0,\n",
    "    '  ROW_BYTES':0,\n",
    "    '  LINES':0,\n",
    "    }\n",
    "while True:\n",
    "# for i in range(10):\n",
    "    line = File.readline()\n",
    "    print(line)\n",
    "    print(line.decode('utf8').replace('\\t', ''))\n",
    "    print(line.decode('utf8').replace('\\t', '').split(\"=\"))\n",
    "\n",
    "    lbl = line.decode('utf8').replace('\\t', '').strip('\\n').split(\"=\")\n",
    "    if lbl[0] == 'END':\n",
    "        break\n",
    "    if lbl[0] in label:\n",
    "        label[lbl[0]] = int(lbl[1])"
   ]
  },
  {
   "cell_type": "code",
   "execution_count": 155,
   "metadata": {},
   "outputs": [
    {
     "output_type": "stream",
     "name": "stdout",
     "text": "{'RECORD_BYTES': 512, 'FILE_RECORDS': 714621, 'LABEL_RECORDS': 30, '^IMAGE': 2942, '^IMAGE_PREFIX': 31, '  ROWS': 2911, '  ROW_BYTES': 512, '  LINES': 22240}\n"
    }
   ],
   "source": [
    "print(label)"
   ]
  },
  {
   "cell_type": "code",
   "execution_count": 156,
   "metadata": {},
   "outputs": [
    {
     "output_type": "stream",
     "name": "stdout",
     "text": "\n\n"
    }
   ],
   "source": [
    "skip = File.readline()\n",
    "print(skip.decode('utf8'))"
   ]
  },
  {
   "cell_type": "code",
   "execution_count": 157,
   "metadata": {},
   "outputs": [
    {
     "output_type": "stream",
     "name": "stdout",
     "text": "b'                                                                                                                                                                                                                                                                                                                                                                                                                                                                                                                                                                                                                                                                                                                                                                                                                                                                                                                                                                                                                                                                                                                                                                                                                                                                                                                                                                                                                                                                                                                                                                                                                                                                                                                                                                                                                                                                                                                                                                                                                                                                                                                                                                                                                                                                                                                                                                                                                                                                                                                                                                                                                                                                                                                                                                                                                                                                                                                                                                                                                                                                                                                                                                                                                                                                                                                                                                                                                                                                                                                                                                                                                                                                                                                                                                                                                                                                                                                                                                                                                                                                                                                                                                                                                                                                                                                                                                                                                                                                                                                                                                                                                                                                                                                                                                                                                                                                                                                                                                                                                                                                                                                                                                                                                                                                                                                                                                                                                                                                                                                                                                                                                                                                                                                                                                                                                                                                                                                                                                                                                                                                                                                                                                                                                                                                                                                                                                                                                                                                                                                                                                                                                                                                                                                                                                                                                                                                                                                                                                                                                                                                                                                                                                                                                                                                                                                                                                                                                                                                                                                                                                                                                                                                                                                                                                                                                                                                                                                                                                                                                                                                                                                                                                                                                                                                                                                                                                                                                                                                                                                                                                                                                                                                                                                                                                                                                                                                                                                                                                                                                                                                                                                                                                                                                                                                                                                                                                                                                                                                                                                                                                                                                                                                                                                                                                                                                                                                                                                                                                                                                                                                                                                                                                                                                                                                                                                                                                                                                                                                                                                                                                                                                                                                                                                                                                                                                                                                                                                                                                                                                                                                                                                                                                                                                                                                                                                                                                                                                                                                                                                                                                                                                                                                                                                                                                                                                                                                                                                                                                                                                                                                                                                                                                                                                                                                                                                                                                                                                                                                                                                                                                                                                                                                                                                                                                                                                                                                                                                                                                                                                                                                                                                                                                                                                                                                                                                                                                                                                       \\n'\n"
    }
   ],
   "source": [
    "print(skip)"
   ]
  },
  {
   "cell_type": "code",
   "execution_count": 158,
   "metadata": {},
   "outputs": [
    {
     "output_type": "stream",
     "name": "stdout",
     "text": "12888\n"
    }
   ],
   "source": [
    "print(len(skip.decode('utf8')))"
   ]
  },
  {
   "cell_type": "code",
   "execution_count": 159,
   "metadata": {},
   "outputs": [],
   "source": [
    "inf = File.readline(67*label['  LINES'])"
   ]
  },
  {
   "cell_type": "code",
   "execution_count": 160,
   "metadata": {},
   "outputs": [],
   "source": [
    "# print(inf[:100].decode('utf8'))\n",
    "# print(inf[:100])\n"
   ]
  },
  {
   "cell_type": "code",
   "execution_count": 161,
   "metadata": {},
   "outputs": [],
   "source": [
    "# print(inf[1490079:])"
   ]
  },
  {
   "cell_type": "code",
   "execution_count": 171,
   "metadata": {
    "tags": [
     "outputPrepend"
    ]
   },
   "outputs": [
    {
     "output_type": "stream",
     "name": "stdout",
     "text": "['2008-12-04T05:04:01.420Z', '0', '121.2097', '-77.4942', '124.8695', '-77.4382', '2008-12-04T05:04:01.586Z', '0', '121.2082', '-77.4862', '124.8657', '-77.4303', '2008-12-04T05:04:01.726Z', '0', '121.2069', '-77.4795', '124.8624', '-77.4236', '2008-12-04T05:04:01.866Z', '0', '121.2056', '-77.4728', '124.8592', '-77.4169', '2008-12-04T05:04:02.007Z', '0', '121.2044', '-77.4660', '124.8560', '-77.4101', '2008-12-04T05:04:02.147Z', '0', '121.2031', '-77.4593', '124.8528', '-77.4035', '2008-12-04T05:04:02.287Z', '0', '121.2018', '-77.4526', '124.8495', '-77.3968', '2008-12-04T05:04:02.427Z', '0', '121.2006', '-77.4459', '124.8464', '-77.3901', '2008-12-04T05:04:02.567Z', '0', '121.1993', '-77.4393', '124.8432', '-77.3835', '2008-12-04T05:04:02.707Z', '0', '121.1981', '-77.4326', '124.8400', '-77.3769', '2008-12-04T05:04:02.847Z', '0', '121.1969', '-77.4260', '124.8369', '-77.3703', '2008-12-04T05:04:02.988Z', '0', '121.1956', '-77.4193', '124.8337', '-77.3636', '2008-12-04T05:04:03.128Z', '0', '121.1944', '-77.4127', '124.8306', '-77.3571', '2008-12-04T05:04:03.268Z', '0', '121.1932', '-77.4061', '124.8275', '-77.3505', '2008-12-04T05:04:03.408Z', '0', '121.1919', '-77.3994', '124.8243', '-77.3439', '2008-12-04T05:04:03.548Z', '0', '121.1907', '-77.3928', '124.8212', '-77.3373', '2008-12-04T05:04:03.688Z', '0', '121.1895', '-77.3861']\n['71.2208', '117.4092', '71.2595', '2008-12-04T05:55:56.321Z', '0', '114.8033', '71.2274', '117.4087', '71.2660', '2008-12-04T05:55:56.461Z', '0', '114.8019', '71.2339', '117.4082', '71.2726', '2008-12-04T05:55:56.602Z', '0', '114.8005', '71.2405', '117.4077', '71.2792', '2008-12-04T05:55:56.742Z', '0', '114.7991', '71.2471', '117.4072', '71.2858', '2008-12-04T05:55:56.882Z', '0', '114.7977', '71.2536', '117.4067', '71.2923', '2008-12-04T05:55:57.022Z', '0', '114.7962', '71.2602', '117.4062', '71.2989', '2008-12-04T05:55:57.162Z', '0', '114.7948', '71.2667', '117.4057', '71.3055', '2008-12-04T05:55:57.302Z', '0', '114.7934', '71.2733', '117.4052', '71.3120', '2008-12-04T05:55:57.443Z', '0', '114.7920', '71.2799', '117.4047', '71.3186', '2008-12-04T05:55:57.583Z', '0', '114.7906', '71.2864', '117.4042', '71.3252', '2008-12-04T05:55:57.723Z', '0', '114.7892', '71.2930', '117.4037', '71.3318', '2008-12-04T05:55:57.863Z', '0', '114.7877', '71.2995', '117.4032', '71.3383', '2008-12-04T05:55:58.003Z', '0', '114.7863', '71.3060', '117.4026', '71.3449', '2008-12-04T05:55:58.143Z', '0', '114.7849', '71.3126', '117.4021', '71.3515', '2008-12-04T05:55:58.284Z', '0', '114.7834', '71.3192', '117.4016', '71.3581', '2008-12-04T05:55:58.424Z', '0', '114.7820', '71.3257', '117.4011', '71.3647', '']\n"
    }
   ],
   "source": [
    "testinf = inf.decode('utf8').replace(' ', '').split(\"\\t\")\n",
    "print(testinf[:100])\n",
    "print(testinf[-100:])\n",
    "\n",
    "# import re\n",
    " \n",
    "# pattern = re.compile(r'([1-9]*-[1-9]*-[1-9]*T[1-9]*:[1-9]*:[1-9]*.[1-9]*Z\\t0\\t [1-9,-,.]*\\t [1-9,-,.]*\\t [1-9,-,.]*\\t [1-9,-,.]*\\t)')   # 查找数字\n",
    "# result1 = pattern.findall(testinf)\n",
    "# print(result1)"
   ]
  },
  {
   "cell_type": "code",
   "execution_count": 172,
   "metadata": {},
   "outputs": [
    {
     "output_type": "stream",
     "name": "stdout",
     "text": "[[121.2097 -77.4942 124.8695 -77.4382]\n [121.2082 -77.4862 124.8657 -77.4303]\n [121.2069 -77.4795 124.8624 -77.4236]\n ...\n [114.7849  71.3126 117.4021  71.3515]\n [114.7834  71.3192 117.4016  71.3581]\n [114.782   71.3257 117.4011  71.3647]]\n"
    }
   ],
   "source": [
    "pos = np.empty((label['  LINES'],4))\n",
    "for i in range(label['  LINES']):\n",
    "    for j in range(4):\n",
    "        pos[i][j] = float(testinf[6*i + j + 2])\n",
    "print(pos)"
   ]
  },
  {
   "cell_type": "code",
   "execution_count": 163,
   "metadata": {},
   "outputs": [
    {
     "output_type": "stream",
     "name": "stdout",
     "text": "(1.6495023458867976e-33,)\n365885952\n"
    }
   ],
   "source": [
    "testF = '\\t\\t\\t\\t'\n",
    "testB = testF.encode()\n",
    "fmt = '>f'\n",
    "test = struct.unpack_from(fmt, testB, offset = 0)\n",
    "print(test)\n",
    "print(len(f))"
   ]
  },
  {
   "cell_type": "code",
   "execution_count": 164,
   "metadata": {},
   "outputs": [],
   "source": [
    "# for i in range(22):\n",
    "#     print(f[15360+i*1000*67:15360+i*1000*67 + 67])\n",
    "# print(f[1505440:1505792])"
   ]
  },
  {
   "cell_type": "code",
   "execution_count": 165,
   "metadata": {},
   "outputs": [],
   "source": [
    "# test = f[15360+0+28:15360+0+36]\n",
    "# test = test.decode('utf-8')\n",
    "# print(float(test))"
   ]
  },
  {
   "cell_type": "code",
   "execution_count": 166,
   "metadata": {
    "tags": [
     "outputPrepend"
    ]
   },
   "outputs": [],
   "source": [
    "# # test = f[1505792:1505800]\n",
    "# # print(f[15360:15800])\n",
    "# print(f[1505000:1505800])\n",
    "# offset=struct.calcsize('>c')*1505792\n",
    "# fmt = '>ff'\n",
    "# test = struct.unpack_from(fmt, f, offset)\n",
    "# print(test)\n",
    "# print(len(f))\n",
    "\n"
   ]
  },
  {
   "cell_type": "markdown",
   "metadata": {},
   "source": [
    "2008-12-04T07:12:01.668Z\\t0\\t 119.8104\\t -76.7162\\t 123.2579\\t -76.6650\\t\n",
    "\n",
    "2008-12-04T07:12:01.809Z\\t0\\t 119.8094\\t -76.7096\\t 123.2551\\t -76.6583\\t\n",
    "\n",
    "2008-12-04T07:12:01.949Z\\t0\\t 119.8083\\t -76.7029\\t 123.2523\\t -76.6517\\t\n",
    "\n",
    "2008-12-04T07:12:02.089Z\\t0\\t 119.8072\\t -76.6963\\t 123.2495\\t -76.6451\\t\n",
    "\n",
    "2008-12-04T07:12:02.229Z\\t0\\t 119.8062\\t -76.6897\\t 123.2467\\t -76.6385\\t\n",
    "\n",
    "2008-12-04T07:12:02.369Z\\t0\\t 119.8051\\t -76.6830\\t 123.2440\\t -76.6319\\t\n",
    "\n",
    "end\n",
    "\n",
    "2008-12-04T08:03:57.945Z\\t0\\t 113.5178\\t  72.0728\\t 116.2450\\t  72.1125\\t\n",
    "\n",
    "2008-12-04T08:03:58.085Z\\t0\\t 113.5162\\t  72.0795\\t 116.2445\\t  72.1191\\t\n",
    "\n",
    "2008-12-04T08:03:58.226Z\\t0\\t 113.5146\\t  72.0862\\t 116.2439\\t  72.1258\\t\n",
    "\n",
    "2008-12-04T08:03:58.366Z\\t0\\t 113.5131\\t  72.0928\\t 116.2434\\t  72.1324\\t\n",
    "\n",
    "2008-12-04T08:03:58.506Z\\t0\\t 113.5115\\t  72.0994\\t 116.2429\\t  72.1390\\t\n",
    "\n",
    "2008-12-04T08:03:58.646Z\\t0\\t 113.5100\\t  72.1059\\t 116.2423\\t  72.1456\\t\n",
    "\n",
    "2008-12-04T08:03:58.786Z\\t0\\t 113.5084\\t  72.1125\\t 116.2418\\t  72.1522\\t\n",
    "\n",
    "2008-12-04T08:03:58.926Z\\t0\\t 113.5069\\t  72.1190\\t 116.2412\\t  72.1587\\t"
   ]
  },
  {
   "cell_type": "code",
   "execution_count": 167,
   "metadata": {},
   "outputs": [],
   "source": [
    "File.close()\n"
   ]
  },
  {
   "cell_type": "code",
   "execution_count": 168,
   "metadata": {},
   "outputs": [],
   "source": [
    "def loadData(file):\n",
    "    try:\n",
    "        F = open(file, 'rb')\n",
    "    except IOError:\n",
    "        print(\"open error\")\n",
    "        F.close()\n",
    "\n",
    "    f = F.read()\n",
    "\n",
    "    offset=0\n",
    "    fmt = '>iiii'\n",
    "    magic, images, rows, columns = struct.unpack_from(fmt, f, offset)\n",
    "\n",
    "    offset += struct.calcsize(fmt)\n",
    "    fmt = '>' + str(rows * columns) + 'B'\n",
    "\n",
    "    # images = 10 # for test\n",
    "\n",
    "    # for CNN\n",
    "    ImageSet = np.empty((images, 1, rows, columns))\n",
    "    for i in range(images):\n",
    "        ImageSet[i] = np.array(struct.unpack_from(fmt, f, offset)).reshape((1, rows, columns))\n",
    "        offset += struct.calcsize(fmt)"
   ]
  },
  {
   "cell_type": "code",
   "execution_count": null,
   "metadata": {},
   "outputs": [],
   "source": []
  }
 ],
 "metadata": {
  "language_info": {
   "codemirror_mode": {
    "name": "ipython",
    "version": 3
   },
   "file_extension": ".py",
   "mimetype": "text/x-python",
   "name": "python",
   "nbconvert_exporter": "python",
   "pygments_lexer": "ipython3",
   "version": "3.7.7-final"
  },
  "orig_nbformat": 2,
  "kernelspec": {
   "name": "python37764bitpytorchcondad18ec039822f41e3ae2a3e8cab4fb4ef",
   "display_name": "Python 3.7.7 64-bit ('pytorch': conda)"
  }
 },
 "nbformat": 4,
 "nbformat_minor": 2
}